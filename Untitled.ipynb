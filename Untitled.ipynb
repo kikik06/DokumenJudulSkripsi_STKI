{
 "cells": [
  {
   "cell_type": "code",
   "execution_count": 27,
   "metadata": {},
   "outputs": [
    {
     "name": "stdout",
     "output_type": "stream",
     "text": [
      "0     Sistem Informasi Parkir Kendaraan Bermotor Ber...\n",
      "1     Game Edukasi Mengenal Bagian Tubuh Berbasis An...\n",
      "2     Aplikasi Pengenalan Huruf, Angka, Warna, Hewan...\n",
      "3            Analisis Sistem Keamanan Jaringan Hot-Spot\n",
      "4     Aplikasi Sistem Pengamanan Rumah Menggunakan K...\n",
      "5     Uji Kelayakan Bus dengan Metode Fuzzy Tsukamot...\n",
      "6     Sistem Manajemen Hubungan Pelanggan Berbasis W...\n",
      "7      Sistem Reservasi Tempat Meeting Berbasis Android\n",
      "8     Aplikasi Pemandu Pariwisata Di Kota Surabaya  ...\n",
      "9     Pengembangan Multimedia Pembelajaran Matematik...\n",
      "10    Pengembangan Aplikasi Pengendalian Skripsi Ber...\n",
      "11    Pengolahan Data Pembayaran Sumbangan Pembinaan...\n",
      "12    Perancangan Sistem Informasi Pengelolaan Baran...\n",
      "13    Alat Pengaman Jarak Antara Kendaraan Guna Meng...\n",
      "14    Desain Dan Implementasi Robot Pemadam Api Meng...\n",
      "15    Analisis Resiko Rancang Bangun Sistem Pengelol...\n",
      "16           Rancangan Bangun Web Iklan Berbasis Mobile\n",
      "17    Perancangan Aplikasi Berbasis Komputer untuk P...\n",
      "18    APLIKASI LOGIKA FUZZY DALAM MEMPREDIKSI PENYAK...\n",
      "19    PERANCANGAN DAN PEMBUATAN PERANGKAT LUNAK UNTU...\n",
      "20    Prediksi Jumlah Kunjungan Pasien Rawat Jalan M...\n",
      "21    Sistem kontrol robot pemindah barang menggunak...\n",
      "22    Rancang bangun magnetic door lock menggunakan ...\n",
      "23    Penerapan Logika Fuzzy Dalam Penjadwalan Waktu...\n",
      "24    Model Perilaku Berjalan Agen-Agen Menggunakan ...\n",
      "25    Penentuan jumlah produksi dengan aplikasi meto...\n",
      "26    Sistem Informasi Geografis Pariwisata Berbasis...\n",
      "27    APLIKASI MONITORING ABSENSI KARYAWAN PEMASARAN...\n",
      "28    Klasifikasi Pergerakan Jari Tangan Berdasarkan...\n",
      "29    Klasifikasi Sinyal Eeg Menggunakan Deep Neural...\n",
      "30    Denoising Sinyal Ekg Menggunakan Deep Neural N...\n",
      "31    Pembuatan Perangkat Lunak Data Mining Untuk Pe...\n",
      "32    Implementasi Analisis Keranjang Belanja Dengan...\n",
      "33    Pengembangan sistem rekomendasi penelusuran bu...\n",
      "34    Implementasi Data Mining dengan Metode Algorit...\n",
      "Name: Judul, dtype: object\n"
     ]
    }
   ],
   "source": [
    "import pandas as pd\n",
    "from Sastrawi.StopWordRemover.StopWordRemoverFactory import StopWordRemoverFactory\n",
    "from Sastrawi.Stemmer.StemmerFactory import StemmerFactory\n",
    "from nltk.tokenize import word_tokenize\n",
    "\n",
    "# Assign spreadsheet filename to `file`\n",
    "data='C:/Users/Aspire 5/Proyek STKI/Dataset/judulskripsi.xlsx'\n",
    "\n",
    "# Load spreadsheet\n",
    "xl = pd.ExcelFile(data)\n",
    "\n",
    "# Print the sheet names\n",
    "#print(xl.sheet_names)\n",
    "\n",
    "# Load a sheet into a DataFrame by name: df1\n",
    "df1 = xl.parse('Lembar1')\n",
    "\n",
    "print(df1.Judul)"
   ]
  },
  {
   "cell_type": "code",
   "execution_count": 28,
   "metadata": {},
   "outputs": [],
   "source": [
    "#emptyarray for pre-processing\n",
    "stopsheet1=[]\n",
    "steemsheet1=[]"
   ]
  },
  {
   "cell_type": "code",
   "execution_count": 29,
   "metadata": {},
   "outputs": [
    {
     "name": "stdout",
     "output_type": "stream",
     "text": [
      "['sistem informasi parkir kendaraan bermotor berbasis\\xa0android', 'game edukasi mengenal bagian tubuh berbasis android', 'aplikasi pengenalan huruf, angka, warna, hewan dan buah berbasis android', 'analisis sistem keamanan jaringan hot-spot', 'aplikasi sistem pengamanan rumah menggunakan kamera ip dan berbasis web', 'uji kelayakan bus dengan metode fuzzy tsukamoto (studi kasus : dinas perhubungan, komunikasi dan informasi kota semarang)', 'sistem manajemen hubungan pelanggan berbasis web dengan fitur sms gatway pada simply fresh  laundry outlet 63 palembang ', 'sistem reservasi tempat meeting berbasis android', 'aplikasi pemandu pariwisata di kota surabaya  \\nberbasis android', 'pengembangan multimedia pembelajaran matematika berbasis android untuk kelas iii sd', 'pengembangan aplikasi pengendalian skripsi berbasis android untuk mahasiswa dan dosen ', 'pengolahan data pembayaran sumbangan pembinaan pendidikan smk al-ihsan', 'perancangan sistem informasi pengelolaan barang inventaris berbasis web di sman 24 kabupaten tangerang', 'alat pengaman jarak antara kendaraan guna mengurangi angka kecelakaan di jalan raya', 'desain dan implementasi robot pemadam api menggunakan modulasi fm (frequency modulation) - fsk (frequency shift keying)', 'analisis resiko rancang bangun sistem pengelolaan asset desa dengan metode berbasis web.', 'rancangan bangun web iklan berbasis mobile', 'perancangan aplikasi berbasis komputer untuk proses manajemen mutu pada pembangunan kapal baru ', 'aplikasi logika fuzzy dalam memprediksi penyakit dengan menggunakan metode fuzzy multi criteria decision making ', 'perancangan dan pembuatan perangkat lunak untuk analisa jaringan kerja  menggunakan metode fuzzy dan pert', 'prediksi jumlah kunjungan pasien rawat jalan menggunakan metode genetic fuzzy systems studi kasus: rumah sakit usada sidoarjo', 'sistem kontrol robot pemindah barang menggunakan aplikasi android berbasis arduino uno', 'rancang bangun magnetic door lock menggunakan keypad dan solenoid berbasis mikrokontroler arduino uno', 'penerapan logika fuzzy dalam penjadwalan waktu kuliah', 'model perilaku berjalan agen-agen menggunakan fuzzy logic', 'penentuan jumlah produksi dengan aplikasi metode fuzzy–mamdani', 'sistem informasi geografis pariwisata berbasis web dan pencarian jalur terpendek dengan p algoritma dijkstra', 'aplikasi monitoring absensi karyawan pemasaran berbasis web dengan memanfaatkan teknologi global positioning system (gps)', 'klasifikasi pergerakan jari tangan berdasarkan sinyal emg menggunakan stacked denoising autoencoder untuk mengendalikan tangan prostetik', 'klasifikasi sinyal eeg menggunakan deep neural network dengan stacked denoising autoencoder', 'denoising sinyal ekg menggunakan deep neural network dengan stacked denoising autoencoder', 'pembuatan perangkat lunak data mining untuk penggalian kaidah asosiasi menggunakan metode apriori', 'implementasi analisis keranjang belanja dengan aturan asosiasi menggunakan algoritma apriori pada penjualan suku cadang motor', 'pengembangan sistem rekomendasi penelusuran buku dengan penggalian association rule menggunakan algoritma apriori', 'implementasi data mining dengan metode algoritma apriori dalam menentukan pola pembelian obat']\n"
     ]
    }
   ],
   "source": [
    "#select coloum Judul\n",
    "sheet1 = df1.Judul\n",
    "\n",
    "#stopword\n",
    " \n",
    "factory = StopWordRemoverFactory()\n",
    "stopword = factory.create_stop_word_remover()\n",
    "#print(stopwords)\n",
    "\n",
    "#lowercase\n",
    "sheet1=sheet1.str.lower()\n",
    "#print(type(sheet1))\n",
    "\n",
    "sheetray=sheet1.tolist()\n",
    "print(sheetray)\n",
    "\n",
    "#print(type(sheet1))\n",
    "#print(sheet1[1])\n",
    "\n"
   ]
  },
  {
   "cell_type": "code",
   "execution_count": 30,
   "metadata": {},
   "outputs": [
    {
     "name": "stdout",
     "output_type": "stream",
     "text": [
      "---------------------------------------------------\n"
     ]
    }
   ],
   "source": [
    "#stop iteration all rows\n",
    "for i in range (len(sheet1)):\n",
    "    #print(sheet1[i])\n",
    "    stopsheet1.append(stopword.remove(str(sheet1[i])))\n",
    "#print(nsheet1)\n",
    "print(\"---------------------------------------------------\")"
   ]
  },
  {
   "cell_type": "code",
   "execution_count": 31,
   "metadata": {},
   "outputs": [
    {
     "name": "stdout",
     "output_type": "stream",
     "text": [
      "                                                Judul\n",
      "0   sistem informasi parkir kendara motor bas android\n",
      "1           game edukasi kenal bagi tubuh bas android\n",
      "2   aplikasi kenal huruf angka warna hewan buah ba...\n",
      "3                analisis sistem aman jaring hot-spot\n",
      "4   aplikasi sistem aman rumah guna kamera ip bas web\n",
      "5   uji layak bus metode fuzzy tsukamoto studi kas...\n",
      "6   sistem manajemen hubung langgan bas web fitur ...\n",
      "7         sistem reservasi tempat meeting bas android\n",
      "8   aplikasi pandu pariwisata kota surabaya bas an...\n",
      "9   kembang multimedia ajar matematika bas android...\n",
      "10  kembang aplikasi kendali skripsi bas android m...\n",
      "11    olah data bayar sumbang bina didik smk al-ihsan\n",
      "12  ancang sistem informasi kelola barang inventar...\n",
      "13  alat kam jarak kendara kurang angka celaka jal...\n",
      "14  desain implementasi robot madam api guna modul...\n",
      "15  analisis resiko rancang bangun sistem kelola a...\n",
      "16                rancang bangun web iklan bas mobile\n",
      "17  ancang aplikasi bas komputer proses manajemen ...\n",
      "18  aplikasi logika fuzzy prediksi sakit guna meto...\n",
      "19  ancang buat perangkat lunak analisa jaring ker...\n",
      "20  prediksi jumlah kunjung pasien rawat jalan gun...\n",
      "21  sistem kontrol robot pindah barang guna aplika...\n",
      "22  rancang bangun magnetic door lock guna keypad ...\n",
      "23             terap logika fuzzy jadwal waktu kuliah\n",
      "24         model perilaku jalan agen guna fuzzy logic\n",
      "25  tentu jumlah produksi aplikasi metode fuzzy ma...\n",
      "26  sistem informasi geografis pariwisata bas web ...\n",
      "27  aplikasi monitoring absensi karyawan pasar bas...\n",
      "28  klasifikasi gera jari tangan dasar sinyal emg ...\n",
      "29  klasifikasi sinyal eeg guna deep neural networ...\n",
      "30  denoising sinyal ekg guna deep neural network ...\n",
      "31  buat perangkat lunak data mining gali kaidah a...\n",
      "32  implementasi analisis keranjang belanja atur a...\n",
      "33  kembang sistem rekomendasi telusur buku gali a...\n",
      "34  implementasi data mining metode algoritma apri...\n"
     ]
    }
   ],
   "source": [
    "#steeming\n",
    "factory = StemmerFactory()\n",
    "stemmer = factory.create_stemmer()\n",
    "for i in range (len(stopsheet1)):\n",
    "    #print(sheet1[i])\n",
    "    steemsheet1.append(stemmer.stem(str(stopsheet1[i])))\n",
    "#print(nsheet1)\n",
    "#print(type(nsheet1))\n",
    "df=pd.DataFrame({'Judul':steemsheet1})\n",
    "print(df)"
   ]
  },
  {
   "cell_type": "code",
   "execution_count": 32,
   "metadata": {},
   "outputs": [
    {
     "name": "stdout",
     "output_type": "stream",
     "text": [
      "['sistem', 'informasi', 'parkir', 'kendara', 'motor', 'bas', 'android', 'game', 'edukasi', 'kenal', 'bagi', 'tubuh', 'bas', 'android', 'aplikasi', 'kenal', 'huruf', 'angka', 'warna', 'hewan', 'buah', 'bas', 'android', 'analisis', 'sistem', 'aman', 'jaring', 'hot-spot', 'aplikasi', 'sistem', 'aman', 'rumah', 'guna', 'kamera', 'ip', 'bas', 'web', 'uji', 'layak', 'bus', 'metode', 'fuzzy', 'tsukamoto', 'studi', 'kasus', 'dinas', 'hubung', 'komunikasi', 'informasi', 'kota', 'semarang', 'sistem', 'manajemen', 'hubung', 'langgan', 'bas', 'web', 'fitur', 'sms', 'gatway', 'simply', 'fresh', 'laundry', 'outlet', '63', 'palembang', 'sistem', 'reservasi', 'tempat', 'meeting', 'bas', 'android', 'aplikasi', 'pandu', 'pariwisata', 'kota', 'surabaya', 'bas', 'android', 'kembang', 'multimedia', 'ajar', 'matematika', 'bas', 'android', 'kelas', 'iii', 'sd', 'kembang', 'aplikasi', 'kendali', 'skripsi', 'bas', 'android', 'mahasiswa', 'dosen', 'olah', 'data', 'bayar', 'sumbang', 'bina', 'didik', 'smk', 'al-ihsan', 'ancang', 'sistem', 'informasi', 'kelola', 'barang', 'inventaris', 'bas', 'web', 'sman', '24', 'kabupaten', 'tangerang', 'alat', 'kam', 'jarak', 'kendara', 'kurang', 'angka', 'celaka', 'jalan', 'raya', 'desain', 'implementasi', 'robot', 'madam', 'api', 'guna', 'modulasi', 'fm', 'frequency', 'modulation', '-', 'fsk', 'frequency', 'shift', 'keying', 'analisis', 'resiko', 'rancang', 'bangun', 'sistem', 'kelola', 'asset', 'desa', 'metode', 'bas', 'web', 'rancang', 'bangun', 'web', 'iklan', 'bas', 'mobile', 'ancang', 'aplikasi', 'bas', 'komputer', 'proses', 'manajemen', 'mutu', 'bangun', 'kapal', 'baru', 'aplikasi', 'logika', 'fuzzy', 'prediksi', 'sakit', 'guna', 'metode', 'fuzzy', 'multi', 'criteria', 'decision', 'making', 'ancang', 'buat', 'perangkat', 'lunak', 'analisa', 'jaring', 'kerja', 'guna', 'metode', 'fuzzy', 'pert', 'prediksi', 'jumlah', 'kunjung', 'pasien', 'rawat', 'jalan', 'guna', 'metode', 'genetic', 'fuzzy', 'systems', 'studi', 'kasus', 'rumah', 'sakit', 'usada', 'sidoarjo', 'sistem', 'kontrol', 'robot', 'pindah', 'barang', 'guna', 'aplikasi', 'android', 'bas', 'arduino', 'uno', 'rancang', 'bangun', 'magnetic', 'door', 'lock', 'guna', 'keypad', 'solenoid', 'bas', 'mikrokontroler', 'arduino', 'uno', 'terap', 'logika', 'fuzzy', 'jadwal', 'waktu', 'kuliah', 'model', 'perilaku', 'jalan', 'agen', 'guna', 'fuzzy', 'logic', 'tentu', 'jumlah', 'produksi', 'aplikasi', 'metode', 'fuzzy', 'mamdani', 'sistem', 'informasi', 'geografis', 'pariwisata', 'bas', 'web', 'cari', 'jalur', 'pendek', 'p', 'algoritma', 'dijkstra', 'aplikasi', 'monitoring', 'absensi', 'karyawan', 'pasar', 'bas', 'web', 'manfaat', 'teknologi', 'global', 'positioning', 'system', 'gps', 'klasifikasi', 'gera', 'jari', 'tangan', 'dasar', 'sinyal', 'emg', 'guna', 'stacked', 'denoising', 'autoencoder', 'kendali', 'tangan', 'prostetik', 'klasifikasi', 'sinyal', 'eeg', 'guna', 'deep', 'neural', 'network', 'stacked', 'denoising', 'autoencoder', 'denoising', 'sinyal', 'ekg', 'guna', 'deep', 'neural', 'network', 'stacked', 'denoising', 'autoencoder', 'buat', 'perangkat', 'lunak', 'data', 'mining', 'gali', 'kaidah', 'asosiasi', 'guna', 'metode', 'apriori', 'implementasi', 'analisis', 'keranjang', 'belanja', 'atur', 'asosiasi', 'guna', 'algoritma', 'apriori', 'jual', 'suku', 'cadang', 'motor', 'kembang', 'sistem', 'rekomendasi', 'telusur', 'buku', 'gali', 'association', 'rule', 'guna', 'algoritma', 'apriori', 'implementasi', 'data', 'mining', 'metode', 'algoritma', 'apriori', 'tentu', 'pola', 'beli', 'obat']\n"
     ]
    }
   ],
   "source": [
    "#Tokenization\n",
    "#print(nnsheet1[611])\n",
    "#print(nnsheet1[1].split)\n",
    "\n",
    "tokensheet1=[words for segments in steemsheet1 for words in segments.split()]\n",
    "print(tokensheet1)"
   ]
  },
  {
   "cell_type": "code",
   "execution_count": 33,
   "metadata": {},
   "outputs": [
    {
     "name": "stdout",
     "output_type": "stream",
     "text": [
      "['24', '63', 'absensi', 'agen', 'al', 'alat', 'algoritma', 'analisa', 'analisis', 'android', 'angka', 'antara', 'api', 'aplikasi', 'apriori', 'arduino', 'asosiasi', 'asset', 'association', 'aturan', 'autoencoder', 'bagian', 'bangun', 'barang', 'baru', 'belanja', 'berbasis', 'berdasarkan', 'berjalan', 'bermotor', 'buah', 'buku', 'bus', 'cadang', 'criteria', 'dalam', 'dan', 'data', 'decision', 'deep', 'dengan', 'denoising', 'desa', 'desain', 'di', 'dijkstra', 'dinas', 'door', 'dosen', 'edukasi', 'eeg', 'ekg', 'emg', 'fitur', 'fm', 'frequency', 'fresh', 'fsk', 'fuzzy', 'game', 'gatway', 'genetic', 'geografis', 'global', 'gps', 'guna', 'hewan', 'hot', 'hubungan', 'huruf', 'ihsan', 'iii', 'iklan', 'implementasi', 'informasi', 'inventaris', 'ip', 'jalan', 'jalur', 'jarak', 'jari', 'jaringan', 'jumlah', 'kabupaten', 'kaidah', 'kamera', 'kapal', 'karyawan', 'kasus', 'keamanan', 'kecelakaan', 'kelas', 'kelayakan', 'kendaraan', 'keranjang', 'kerja', 'keying', 'keypad', 'klasifikasi', 'komputer', 'komunikasi', 'kontrol', 'kota', 'kuliah', 'kunjungan', 'laundry', 'lock', 'logic', 'logika', 'lunak', 'magnetic', 'mahasiswa', 'making', 'mamdani', 'manajemen', 'matematika', 'meeting', 'memanfaatkan', 'memprediksi', 'menentukan', 'mengenal', 'mengendalikan', 'menggunakan', 'mengurangi', 'metode', 'mikrokontroler', 'mining', 'mobile', 'model', 'modulasi', 'modulation', 'monitoring', 'motor', 'multi', 'multimedia', 'mutu', 'network', 'neural', 'obat', 'outlet', 'pada', 'palembang', 'pariwisata', 'parkir', 'pasien', 'pelanggan', 'pemadam', 'pemandu', 'pemasaran', 'pembangunan', 'pembayaran', 'pembelajaran', 'pembelian', 'pembinaan', 'pembuatan', 'pemindah', 'pencarian', 'pendidikan', 'penelusuran', 'penentuan', 'penerapan', 'pengaman', 'pengamanan', 'pengelolaan', 'pengembangan', 'pengenalan', 'pengendalian', 'penggalian', 'pengolahan', 'penjadwalan', 'penjualan', 'penyakit', 'perancangan', 'perangkat', 'pergerakan', 'perhubungan', 'perilaku', 'pert', 'pola', 'positioning', 'prediksi', 'produksi', 'proses', 'prostetik', 'rancang', 'rancangan', 'rawat', 'raya', 'rekomendasi', 'reservasi', 'resiko', 'robot', 'rule', 'rumah', 'sakit', 'sd', 'semarang', 'shift', 'sidoarjo', 'simply', 'sinyal', 'sistem', 'skripsi', 'sman', 'smk', 'sms', 'solenoid', 'spot', 'stacked', 'studi', 'suku', 'sumbangan', 'surabaya', 'system', 'systems', 'tangan', 'tangerang', 'teknologi', 'tempat', 'terpendek', 'tsukamoto', 'tubuh', 'uji', 'uno', 'untuk', 'usada', 'waktu', 'warna', 'web']\n",
      "  (0, 9)\t1\n",
      "  (0, 26)\t1\n",
      "  (0, 29)\t1\n",
      "  (0, 93)\t1\n",
      "  (0, 143)\t1\n",
      "  (0, 74)\t1\n",
      "  (0, 201)\t1\n",
      "  (1, 221)\t1\n",
      "  (1, 21)\t1\n",
      "  (1, 120)\t1\n",
      "  (1, 49)\t1\n",
      "  (1, 59)\t1\n",
      "  (1, 9)\t1\n",
      "  (1, 26)\t1\n",
      "  (2, 30)\t1\n",
      "  (2, 36)\t1\n",
      "  (2, 66)\t1\n",
      "  (2, 227)\t1\n",
      "  (2, 10)\t1\n",
      "  (2, 69)\t1\n",
      "  (2, 165)\t1\n",
      "  (2, 13)\t1\n",
      "  (2, 9)\t1\n",
      "  (2, 26)\t1\n",
      "  (3, 207)\t1\n",
      "  :\t:\n",
      "  (32, 8)\t1\n",
      "  (33, 192)\t1\n",
      "  (33, 18)\t1\n",
      "  (33, 31)\t1\n",
      "  (33, 158)\t1\n",
      "  (33, 188)\t1\n",
      "  (33, 14)\t1\n",
      "  (33, 167)\t1\n",
      "  (33, 6)\t1\n",
      "  (33, 164)\t1\n",
      "  (33, 40)\t1\n",
      "  (33, 122)\t1\n",
      "  (33, 201)\t1\n",
      "  (34, 138)\t1\n",
      "  (34, 152)\t1\n",
      "  (34, 178)\t1\n",
      "  (34, 119)\t1\n",
      "  (34, 14)\t1\n",
      "  (34, 126)\t1\n",
      "  (34, 6)\t1\n",
      "  (34, 35)\t1\n",
      "  (34, 73)\t1\n",
      "  (34, 37)\t1\n",
      "  (34, 124)\t1\n",
      "  (34, 40)\t1\n"
     ]
    }
   ],
   "source": [
    "from sklearn.feature_extraction.text import CountVectorizer\n",
    "vec = CountVectorizer(tokensheet1)\n",
    "tf = vec.fit_transform(sheet1.values.astype('U'))\n",
    "BagofWord= vec.get_feature_names()\n",
    "print(BagofWord)\n",
    "\n",
    "#Binary feature extraction\n",
    "print(tf)"
   ]
  },
  {
   "cell_type": "code",
   "execution_count": 35,
   "metadata": {},
   "outputs": [
    {
     "name": "stdout",
     "output_type": "stream",
     "text": [
      "  (0, 201)\t0.25087646494984983\n",
      "  (0, 74)\t0.35291817235257494\n",
      "  (0, 143)\t0.507301315879636\n",
      "  (0, 93)\t0.43010974411610553\n",
      "  (0, 29)\t0.507301315879636\n",
      "  (0, 26)\t0.1917836346384959\n",
      "  (0, 9)\t0.27572660058904436\n",
      "  (1, 26)\t0.1621111169396677\n",
      "  (1, 9)\t0.2330665349821017\n",
      "  (1, 59)\t0.4288123076675879\n",
      "  (1, 49)\t0.4288123076675879\n",
      "  (1, 120)\t0.4288123076675879\n",
      "  (1, 21)\t0.4288123076675879\n",
      "  (1, 221)\t0.4288123076675879\n",
      "  (2, 26)\t0.14582882876826903\n",
      "  (2, 9)\t0.20965755133355732\n",
      "  (2, 13)\t0.19968378913907445\n",
      "  (2, 165)\t0.38574280264724675\n",
      "  (2, 69)\t0.38574280264724675\n",
      "  (2, 10)\t0.32704771887601697\n",
      "  (2, 227)\t0.38574280264724675\n",
      "  (2, 66)\t0.38574280264724675\n",
      "  (2, 36)\t0.20965755133355732\n",
      "  (2, 30)\t0.38574280264724675\n",
      "  (3, 201)\t0.23211517822929328\n",
      "  :\t:\n",
      "  (32, 132)\t0.304321666397219\n",
      "  (33, 201)\t0.17605017540426768\n",
      "  (33, 122)\t0.14975535561885775\n",
      "  (33, 40)\t0.16180200881841814\n",
      "  (33, 164)\t0.27013891281152275\n",
      "  (33, 6)\t0.24765697395506758\n",
      "  (33, 167)\t0.3018254259516199\n",
      "  (33, 14)\t0.24765697395506758\n",
      "  (33, 188)\t0.3559938779481721\n",
      "  (33, 158)\t0.3559938779481721\n",
      "  (33, 31)\t0.3559938779481721\n",
      "  (33, 18)\t0.3559938779481721\n",
      "  (33, 192)\t0.3559938779481721\n",
      "  (34, 40)\t0.16154085483816283\n",
      "  (34, 124)\t0.19317622486151267\n",
      "  (34, 37)\t0.26970289936015857\n",
      "  (34, 73)\t0.26970289936015857\n",
      "  (34, 35)\t0.26970289936015857\n",
      "  (34, 6)\t0.24725724712251054\n",
      "  (34, 126)\t0.30133826938350844\n",
      "  (34, 14)\t0.24725724712251054\n",
      "  (34, 119)\t0.3554192916445062\n",
      "  (34, 178)\t0.3554192916445062\n",
      "  (34, 152)\t0.3554192916445062\n",
      "  (34, 138)\t0.3554192916445062\n"
     ]
    }
   ],
   "source": [
    "from sklearn.feature_extraction.text import TfidfTransformer\n",
    "transformer = TfidfTransformer(smooth_idf=False)\n",
    "tfidf = transformer.fit_transform(tf)\n",
    "\n",
    "#tfidf feature extraction\n",
    "print(tfidf)"
   ]
  },
  {
   "cell_type": "code",
   "execution_count": null,
   "metadata": {},
   "outputs": [],
   "source": []
  }
 ],
 "metadata": {
  "kernelspec": {
   "display_name": "Python 3",
   "language": "python",
   "name": "python3"
  },
  "language_info": {
   "codemirror_mode": {
    "name": "ipython",
    "version": 3
   },
   "file_extension": ".py",
   "mimetype": "text/x-python",
   "name": "python",
   "nbconvert_exporter": "python",
   "pygments_lexer": "ipython3",
   "version": "3.6.4"
  }
 },
 "nbformat": 4,
 "nbformat_minor": 2
}
